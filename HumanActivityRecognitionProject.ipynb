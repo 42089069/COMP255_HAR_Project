{
 "cells": [
  {
   "cell_type": "markdown",
   "metadata": {},
   "source": [
    "# Human Activity Recognition Project\n"
   ]
  },
  {
   "cell_type": "markdown",
   "metadata": {},
   "source": [
    "## Data pre processing"
   ]
  },
  {
   "cell_type": "markdown",
   "metadata": {},
   "source": [
    "Import necessary libraries"
   ]
  },
  {
   "cell_type": "code",
   "execution_count": 24,
   "metadata": {},
   "outputs": [],
   "source": [
    "import numpy as np \n",
    "import pandas as pd \n",
    "from scipy import signal, stats\n",
    "import matplotlib.pyplot as plt \n",
    "import math\n",
    "from sklearn import preprocessing\n",
    "from sklearn.neighbors import KNeighborsClassifier\n",
    "from sklearn.metrics import make_scorer, accuracy_score, confusion_matrix\n",
    "from sklearn.svm import SVC\n",
    "from sklearn.model_selection import GridSearchCV\n",
    "\n",
    "# Global Variables\n",
    "totaldatasets = 19 # Total number of datasets in file"
   ]
  },
  {
   "cell_type": "markdown",
   "metadata": {},
   "source": [
    "Load datasets"
   ]
  },
  {
   "cell_type": "code",
   "execution_count": 25,
   "metadata": {},
   "outputs": [],
   "source": [
    "# Returns an individual dataset as a pandas dataframe. \n",
    "# requested_dataSet is the number of the selected dataset, from 1 to 19\n",
    "# If the number is outside the range of 1 to 19, function returns dataset 1\n",
    "def getDataset(requested_dataSet):\n",
    "    if requested_dataSet < 1 or requested_dataSet > totaldatasets:\n",
    "        requested_dataSet = 1\n",
    "    dataSet = pd.read_csv('daliac/dataset_'+str(requested_dataSet)+'.txt', sep=',', header=None)\n",
    "    return dataSet\n",
    "\n",
    "# Returns all datasets as a list of dataframes\n",
    "def getAllDatasets():\n",
    "    dataSets = []\n",
    "    for n in range(1, totaldatasets + 1):\n",
    "        dataSets.append(getDataset(n))\n",
    "    return dataSets"
   ]
  },
  {
   "cell_type": "markdown",
   "metadata": {},
   "source": [
    "Class dataSets stores imported data sets in an array of dataframes"
   ]
  },
  {
   "cell_type": "code",
   "execution_count": 26,
   "metadata": {},
   "outputs": [],
   "source": [
    "# A class for handling data \n",
    "class dataSets:\n",
    "    #Constants for activities\n",
    "    SITTING = 1\n",
    "    LYING = 2\n",
    "    STANDING = 3\n",
    "    WASHINGDISHES = 4 \n",
    "    VACUUMING = 5 \n",
    "    SWEEPING = 6 \n",
    "    WALKING = 7 \n",
    "    ASCENDSTAIRS = 8\n",
    "    DESCENDSTAIRS = 9  \n",
    "    TREADMILLRUN = 10\n",
    "    CYCLE50W = 11\n",
    "    CYCLE100W = 12\n",
    "    ROPEJUMP = 13\n",
    "    \n",
    "    #Constants for sensors.\n",
    "    WRIST_ACCELEROMETER = 0\n",
    "    WRIST_GYROSCOPE = 3\n",
    "    CHEST_ACCELEROMETER = 6\n",
    "    CHEST_GYROSCOPE = 9\n",
    "    HIP_ACCELEROMETER = 12\n",
    "    HIP_GYROSCOPE = 15\n",
    "    ANKLE_ACCELEROMETER = 18\n",
    "    ANKLE_GYROSCOPE = 21\n",
    "    \n",
    "    def __init__(self, dataSet_collection):\n",
    "        self.dataSet_collection = dataSet_collection\n",
    "    \n",
    "    def getSubjectActivity(self, subject, activity):\n",
    "        return self.dataSet_collection[subject][self.dataSet_collection[subject][24] == activity].values\n",
    "    \n",
    "    def getActivitySensor(self, subject, activity, sensor):\n",
    "        return self.getSubjectActivity(subject, activity)[:, sensor:sensor+3]\n",
    "    \n"
   ]
  },
  {
   "cell_type": "markdown",
   "metadata": {},
   "source": [
    "Signal processing/ Data filtration"
   ]
  },
  {
   "cell_type": "code",
   "execution_count": 27,
   "metadata": {},
   "outputs": [],
   "source": [
    "# filters data from a given data set.\n",
    "# Optional parmeter filter_cutoff\n",
    "# Optional parameters numerator and denominator allow for use of custom filter.\n",
    "# Otherwise defaults to lowpass butterworth filter\n",
    "def remove_noise(data_set, filter_cutoff = None,\n",
    "                 numerator = signal.butter(4, 0.04, 'low', analog = False)[0],\n",
    "                 denominator = signal.butter(4, 0.04, 'low', analog = False)[1]):\n",
    "    for column in range(len(data_set[0][:filter_cutoff])):\n",
    "        data_set[:, column] = signal.lfilter(numerator, denominator, data_set[:, column])\n",
    "    return data_set\n"
   ]
  },
  {
   "cell_type": "markdown",
   "metadata": {},
   "source": [
    "Data visualisation"
   ]
  },
  {
   "cell_type": "code",
   "execution_count": 28,
   "metadata": {
    "scrolled": false
   },
   "outputs": [],
   "source": [
    "def visualise_data(plot_list):\n",
    "    if isinstance(plot_list, np.ndarray):\n",
    "        plot_list = [plot_list]\n",
    "    elif len(plot_list) <= 0:\n",
    "        print('Please create a list of dataframes you wish to plot')\n",
    "        return\n",
    "    \n",
    "    if len(plot_list) == 1:\n",
    "        plt.plot(plot_list[0])\n",
    "    else:\n",
    "        plot_space, grid_axes = plt.subplots(\n",
    "            nrows=( int(math.ceil(len(plot_list) / 2)) ), ncols=2, sharex=False, sharey=False)\n",
    "        plot_space.set_size_inches(14,  6 *  int(math.ceil(len(plot_list) / 2)))\n",
    "        \n",
    "        if len(plot_list) == 2:\n",
    "            for index, value in enumerate(plot_list):\n",
    "                grid_axes[index].plot(value)\n",
    "        else:\n",
    "            row = 0\n",
    "            for index, value in enumerate(plot_list):\n",
    "                if ( index != 0 and index % 2 == 0 ):\n",
    "                    row = row + 1\n",
    "                grid_axes[row][index % 2].plot(value)\n",
    "    plt.show()"
   ]
  },
  {
   "cell_type": "markdown",
   "metadata": {},
   "source": [
    "## Implementation"
   ]
  },
  {
   "cell_type": "code",
   "execution_count": 29,
   "metadata": {},
   "outputs": [
    {
     "data": {
      "image/png": "[encoded data removed]",
      "text/plain": [
       "<Figure size 1008x432 with 2 Axes>"
      ]
     },
     "metadata": {
      "needs_background": "light"
     },
     "output_type": "display_data"
    },
    {
     "data": {
      "image/png": "[encoded data removed]",
      "text/plain": [
       "<Figure size 1008x432 with 2 Axes>"
      ]
     },
     "metadata": {
      "needs_background": "light"
     },
     "output_type": "display_data"
    }
   ],
   "source": [
    "#Get all datasets\n",
    "HAR_dataset = dataSets(getAllDatasets())\n",
    "\n",
    "#Visualise unfiltered data from wrist Accelerometer and Gyroscope\n",
    "visualise_data([HAR_dataset.getActivitySensor(0, dataSets.SITTING, dataSets.WRIST_ACCELEROMETER),\n",
    "               HAR_dataset.getActivitySensor(0, dataSets.SITTING, dataSets.WRIST_GYROSCOPE)])\n",
    "\n",
    "#Visualise filtered data from wrist Accelerometer and Gyroscope\n",
    "visualise_data([remove_noise(HAR_dataset.getActivitySensor(0, dataSets.SITTING, dataSets.WRIST_ACCELEROMETER)),\n",
    "               remove_noise(HAR_dataset.getActivitySensor(0, dataSets.SITTING, dataSets.WRIST_GYROSCOPE))])"
   ]
  },
  {
   "cell_type": "markdown",
   "metadata": {},
   "source": [
    "## Feature Processing"
   ]
  },
  {
   "cell_type": "code",
   "execution_count": 32,
   "metadata": {},
   "outputs": [],
   "source": [
    "# Extracts features from time segments of a dataset\n",
    "# Accepts flexible number of feature extraction techniques\n",
    "def time_series_features(time_series, time_window = 1000, total_sensors = 3, select_features = [np.min, np.max, np.mean]):\n",
    "    feature_set = []\n",
    "\n",
    "    total_segments = len(time_series) // time_window + 1\n",
    "   \n",
    "    for segment in range(total_segments):\n",
    "        if segment < total_segments - 1:\n",
    "            sample_data = time_series[time_window*segment: time_window*(segment+1), :]\n",
    "        else:\n",
    "            sample_data = time_series[time_window*segment:,:]\n",
    "        feature_sample = []\n",
    "        for sensor in range(total_sensors):\n",
    "            for feature in select_features:\n",
    "                feature_sample.append(feature(sample_data[:, sensor]))\n",
    "        feature_sample.append(sample_data[0, -1])\n",
    "        feature_set.append(feature_sample)\n",
    "    \n",
    "    return feature_set\n",
    "\n",
    "def convert_to_csv(two_dimension_array, filepath):\n",
    "    pd.DataFrame(two_dimension_array).to_csv(filepath, index=None, header=None)\n",
    "    \n",
    "# Writes training and testing datasets to csv files.\n",
    "def prepare_training_sets(dataset_collection, \n",
    "                                training_ratio = 0.8, \n",
    "                                time_window = 1000, \n",
    "                                total_sensors = 3, \n",
    "                                features = [np.min, np.max, np.mean]):\n",
    "    training_feature_set = []\n",
    "    testing_feature_set = []\n",
    "    # deal with each dataset file\n",
    "    for participant in range(totaldatasets):\n",
    "        for activity in range(1, 14):\n",
    "            activity_data = remove_noise(dataset_collection.getSubjectActivity(participant, activity), filter_cutoff = 24)\n",
    "\n",
    "            training_len = math.floor(len(activity_data) * training_ratio)\n",
    "            training_data = activity_data[:training_len, :]\n",
    "            testing_data = activity_data[training_len:, :]\n",
    "\n",
    "            training_feature_set = training_feature_set + \\\n",
    "                                   time_series_features(training_data, time_window, total_sensors, features)\n",
    "            testing_feature_set = testing_feature_set + \\\n",
    "                                  time_series_features(testing_data, time_window, total_sensors, features)\n",
    "\n",
    "    convert_to_csv(training_feature_set, 'training_data.csv')\n",
    "    convert_to_csv(testing_feature_set, 'testing_data.csv')"
   ]
  },
  {
   "cell_type": "markdown",
   "metadata": {},
   "source": [
    "## Implementation"
   ]
  },
  {
   "cell_type": "code",
   "execution_count": 33,
   "metadata": {},
   "outputs": [],
   "source": [
    "# Create Training and Testing csv files\n",
    "prepare_training_sets(HAR_dataset, total_sensors = 24, features = [np.min, np.max, np.mean, np.std, stats.skew, stats.kurtosis])"
   ]
  },
  {
   "cell_type": "markdown",
   "metadata": {},
   "source": [
    "## Machine Learning "
   ]
  },
  {
   "cell_type": "code",
   "execution_count": 35,
   "metadata": {},
   "outputs": [],
   "source": [
    "# Generic function for reading a training feature set\n",
    "# Outputs labels and values\n",
    "def get_training_data(filepath):\n",
    "    training_dataset = pd.read_csv(filepath, header=None)\n",
    "    # Labels should start from 0 in sklearn\n",
    "    data_labels = training_dataset[len(training_dataset.columns) - 1].values\n",
    "    data_labels = data_labels - 1\n",
    "    training_dataset = training_dataset.drop([len(training_dataset.columns) - 1], axis=1)\n",
    "    data_features = training_dataset.values\n",
    "    return data_labels, data_features\n",
    "\n",
    "# Returns data from both training and testing sets\n",
    "# Outputs training and testing data and labels\n",
    "def get_normalized_training_data():\n",
    "    training_label, training_data = get_training_data('training_data.csv')\n",
    "    testing_label, testing_data = get_training_data('testing_data.csv')\n",
    "\n",
    "    scaler = preprocessing.StandardScaler().fit(training_data)\n",
    "    training_data = scaler.transform(training_data)\n",
    "    testing_data = scaler.transform(testing_data)\n",
    "    \n",
    "    return training_label, training_data, testing_label, testing_data\n",
    "\n",
    "# Prints accuracy metrics for tests\n",
    "def print_accuracy(test_labels, predicted_labels):\n",
    "    print('Accuracy: ', accuracy_score(test_labels, predicted_labels))\n",
    "    print(confusion_matrix(test_labels, predicted_labels))\n",
    "\n",
    "def run_k_nearest_neighbor(train_label, train_data, test_label, test_data, nearest_neighbors = 3):\n",
    "    knn = KNeighborsClassifier(n_neighbors = nearest_neighbors)\n",
    "    knn.fit(train_data, train_label)\n",
    "\n",
    "    predict_label = knn.predict(test_data)\n",
    "    print_accuracy(test_label, predict_label)\n",
    "\n",
    "def run_support_vector_machine(train_label, train_data, test_label, test_data):\n",
    "    \n",
    "    tuned_parameters = [{'kernel': ['rbf'], 'gamma': [1e-1,1e-2, 1e-3, 1e-4],\n",
    "                     'C': [1e-3, 1e-2, 1e-1, 1, 10, 100, 100]},\n",
    "                    {'kernel': ['linear'], 'C': [1e-3, 1e-2, 1e-1, 1, 10, 100]}]\n",
    "    acc_scorer = make_scorer(accuracy_score)\n",
    "    grid_obj  = GridSearchCV(SVC(), tuned_parameters, cv=10, scoring=acc_scorer)\n",
    "    grid_obj  = grid_obj .fit(train_data, train_label)\n",
    "    clf = grid_obj.best_estimator_\n",
    "    print('best clf:', clf)\n",
    "    clf.fit(train_data, train_label)\n",
    "    predict_label = clf.predict(test_data)\n",
    "    print_accuracy(test_label, predict_label)\n"
   ]
  },
  {
   "cell_type": "markdown",
   "metadata": {},
   "source": [
    "## Implementation"
   ]
  },
  {
   "cell_type": "code",
   "execution_count": 36,
   "metadata": {},
   "outputs": [
    {
     "name": "stdout",
     "output_type": "stream",
     "text": [
      "Accuracy:  0.9126679462571977\n",
      "[[ 52   1   2   2   0   0   0   0   0   0   0   0   0]\n",
      " [  0  57   0   0   0   0   0   0   0   0   0   0   0]\n",
      " [  3   0  52   2   0   0   0   0   0   0   0   0   0]\n",
      " [  0   0   3  96   0   0   0   0   0   0   0   0   0]\n",
      " [  0   0   1   2  49   5   0   0   0   0   0   0   0]\n",
      " [  0   0   0   2  22  58   1   2   0   0   0   0   0]\n",
      " [  0   0   0   1   5   1 212   0   0   0   0   0   0]\n",
      " [  0   0   1   0   0   0   1  36   0   0   0   1   0]\n",
      " [  0   0   0   0   0   1   1   0  36   0   0   0   0]\n",
      " [  0   0   0   0   0   0   0   0   0  96   0   0   0]\n",
      " [  0   0   0   0   0   1   0   0   0   0  86  13   0]\n",
      " [  0   0   0   0   0   0   1   0   1   0  14  84   0]\n",
      " [  0   0   0   0   0   0   1   0   0   0   0   0  37]]\n"
     ]
    }
   ],
   "source": [
    "# Read Training and testing CSV files\n",
    "ytrain, xtrain, ytest, xtest = get_normalized_training_data()\n",
    "\n",
    "# Train KNN classifier\n",
    "run_k_nearest_neighbor(ytrain, xtrain, ytest, xtest, 3)"
   ]
  },
  {
   "cell_type": "code",
   "execution_count": 37,
   "metadata": {},
   "outputs": [
    {
     "name": "stderr",
     "output_type": "stream",
     "text": [
      "C:\\ProgramData\\Anaconda3\\lib\\site-packages\\sklearn\\model_selection\\_search.py:813: DeprecationWarning: The default of the `iid` parameter will change from True to False in version 0.22 and will be removed in 0.24. This will change numeric results when test-set sizes are unequal.\n",
      "  DeprecationWarning)\n"
     ]
    },
    {
     "name": "stdout",
     "output_type": "stream",
     "text": [
      "best clf: SVC(C=100, cache_size=200, class_weight=None, coef0=0.0,\n",
      "    decision_function_shape='ovr', degree=3, gamma=0.001, kernel='rbf',\n",
      "    max_iter=-1, probability=False, random_state=None, shrinking=True,\n",
      "    tol=0.001, verbose=False)\n",
      "Accuracy:  0.9452975047984645\n",
      "[[ 56   0   0   1   0   0   0   0   0   0   0   0   0]\n",
      " [  0  57   0   0   0   0   0   0   0   0   0   0   0]\n",
      " [  0   0  57   0   0   0   0   0   0   0   0   0   0]\n",
      " [  0   0   2  95   1   1   0   0   0   0   0   0   0]\n",
      " [  0   0   1   2  48   6   0   0   0   0   0   0   0]\n",
      " [  0   0   0   1   8  76   0   0   0   0   0   0   0]\n",
      " [  0   0   2   0   4   2 210   0   1   0   0   0   0]\n",
      " [  0   0   1   0   0   0   0  38   0   0   0   0   0]\n",
      " [  1   0   0   0   0   1   0   0  36   0   0   0   0]\n",
      " [  0   0   0   0   0   0   1   0   0  95   0   0   0]\n",
      " [  0   0   1   0   0   2   0   0   0   0  88   9   0]\n",
      " [  0   0   1   0   0   1   0   0   0   0   6  92   0]\n",
      " [  0   1   0   0   0   0   0   0   0   0   0   0  37]]\n"
     ]
    }
   ],
   "source": [
    "# Train SVM Classifier\n",
    "run_support_vector_machine(ytrain, xtrain, ytest, xtest)"
   ]
  },
  {
   "cell_type": "code",
   "execution_count": null,
   "metadata": {},
   "outputs": [],
   "source": []
  }
 ],
 "metadata": {
  "kernelspec": {
   "display_name": "Python 3",
   "language": "python",
   "name": "python3"
  },
  "language_info": {
   "codemirror_mode": {
    "name": "ipython",
    "version": 3
   },
   "file_extension": ".py",
   "mimetype": "text/x-python",
   "name": "python",
   "nbconvert_exporter": "python",
   "pygments_lexer": "ipython3",
   "version": "3.7.3"
  }
 },
 "nbformat": 4,
 "nbformat_minor": 2
}
